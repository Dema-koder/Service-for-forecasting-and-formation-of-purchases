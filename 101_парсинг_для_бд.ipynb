{
  "nbformat": 4,
  "nbformat_minor": 0,
  "metadata": {
    "colab": {
      "provenance": []
    },
    "kernelspec": {
      "name": "python3",
      "display_name": "Python 3"
    },
    "language_info": {
      "name": "python"
    }
  },
  "cells": [
    {
      "cell_type": "code",
      "execution_count": 19,
      "metadata": {
        "id": "tOBuFYgXRNvJ"
      },
      "outputs": [],
      "source": [
        "import pandas as pd\n",
        "import re\n",
        "import math\n",
        "str_document = 'Ведомость остатков на 30.06.2022г. (сч. 101).xlsx'\n",
        "db = pd.read_excel(str_document)\n",
        "columns = [\"Название\", \"Остаток\", \"подгруппа\", \"дата\", \"сч\"]\n",
        "df = pd.DataFrame(columns=columns)\n",
        "date = str_document[22:32]\n",
        "subgroup = 0\n",
        "for index,row in db.iterrows():\n",
        "  row[0], row[2], row[20] = str(row[0]), str(row[2]),str(row[20])\n",
        "  if '101.' in row[0]:\n",
        "    pattern = r'101.{3}'\n",
        "    subgroup = re.findall(pattern, row[0])\n",
        "  if row[2]!='nan' and row[20]!='nan':\n",
        "    df.loc[len(df)] = [row[2],row[20],subgroup[0],date,'101']\n",
        "\n",
        "\n",
        "\n",
        "\n",
        "\n"
      ]
    },
    {
      "cell_type": "code",
      "source": [],
      "metadata": {
        "colab": {
          "base_uri": "https://localhost:8080/"
        },
        "id": "KjJM2oDXStfL",
        "outputId": "94e093a3-8f2c-426e-c81e-675c45cc1ccd"
      },
      "execution_count": 12,
      "outputs": [
        {
          "output_type": "stream",
          "name": "stdout",
          "text": [
            "Ведомость остатков на 30.06.2022г. (сч. 101).xlsx\n",
            "Основное средство\n"
          ]
        }
      ]
    },
    {
      "cell_type": "code",
      "source": [
        "print(df.head())"
      ],
      "metadata": {
        "colab": {
          "base_uri": "https://localhost:8080/"
        },
        "id": "FcMdAfr9S1fb",
        "outputId": "71819c12-1f64-4a6c-9908-bafc801ba0e4"
      },
      "execution_count": 10,
      "outputs": [
        {
          "output_type": "stream",
          "name": "stdout",
          "text": [
            "                                            Название Остаток подгруппа  \\\n",
            "0  Холодильник ATLANT МХ 5810-62, однокамерный, о...       1    101.34   \n",
            "1  Холодильник ATLANT МХ 5810-62, однокамерный, о...       1    101.34   \n",
            "2  Холодильник ATLANT МХ 5810-62, однокамерный, о...       1    101.34   \n",
            "3  Рециркулятор бактерицидный ОВУ-06 \" Солнечный ...       1    101.34   \n",
            "4  Рециркулятор бактерицидный ОВУ-06 \" Солнечный ...       1    101.34   \n",
            "\n",
            "         дата   сч  \n",
            "0  30.06.2022  101  \n",
            "1  30.06.2022  101  \n",
            "2  30.06.2022  101  \n",
            "3  30.06.2022  101  \n",
            "4  30.06.2022  101  \n"
          ]
        }
      ]
    }
  ]
}